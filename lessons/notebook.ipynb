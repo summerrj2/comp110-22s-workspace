{
 "cells": [
  {
   "cell_type": "markdown",
   "metadata": {},
   "source": [
    "# Demo Jupyter Notebook\n",
    "\n",
    "This notebook will exemplify *some* of the common use cases in Notebooks"
   ]
  },
  {
   "cell_type": "code",
   "execution_count": 3,
   "metadata": {},
   "outputs": [
    {
     "name": "stdout",
     "output_type": "stream",
     "text": [
      "Hello, Kris\n"
     ]
    }
   ],
   "source": [
    "name: str = \"Kris\"\n",
    "print(f\"Hello, {name}\") "
   ]
  },
  {
   "cell_type": "markdown",
   "metadata": {},
   "source": [
    "# Formatting Markdown Notes \n",
    "\n",
    "* You can have lists \n",
    "* You can have [links]"
   ]
  },
  {
   "cell_type": "code",
   "execution_count": 4,
   "metadata": {},
   "outputs": [
    {
     "name": "stdout",
     "output_type": "stream",
     "text": [
      "Another refernces to Kris made in the cell\n"
     ]
    }
   ],
   "source": [
    "print(f\"Another refernces to {name} made in the cell\")"
   ]
  },
  {
   "cell_type": "markdown",
   "metadata": {},
   "source": [
    "## Useful Keyboard SHortcuts \n",
    "\n",
    "1. `Control + Enter` Execute a cell and leave the focus in that cell \n",
    "2. `Shift + Enter` Execute a cell and move to the next cel "
   ]
  },
  {
   "cell_type": "code",
   "execution_count": 9,
   "metadata": {},
   "outputs": [
    {
     "name": "stdout",
     "output_type": "stream",
     "text": [
      "Some important computation\n"
     ]
    },
    {
     "data": {
      "text/plain": [
       "201110.0"
      ]
     },
     "execution_count": 9,
     "metadata": {},
     "output_type": "execute_result"
    }
   ],
   "source": [
    "print(\"Some important computation\")\n",
    "total: float = 110.0 + 1000.0\n",
    "total + 200000"
   ]
  },
  {
   "cell_type": "markdown",
   "metadata": {},
   "source": [
    "## Expressions written as the last line of a cell are automatically output \n",
    "\n",
    "NO need to use print statement for these"
   ]
  },
  {
   "cell_type": "markdown",
   "metadata": {},
   "source": [
    "# Example of Importing a Module "
   ]
  },
  {
   "cell_type": "code",
   "execution_count": 1,
   "metadata": {},
   "outputs": [
    {
     "data": {
      "text/plain": [
       "30"
      ]
     },
     "execution_count": 1,
     "metadata": {},
     "output_type": "execute_result"
    }
   ],
   "source": [
    "import notebook_helpers \n",
    "notebook_helpers.add_two_ints(10, 20)"
   ]
  },
  {
   "cell_type": "code",
   "execution_count": 2,
   "metadata": {},
   "outputs": [
    {
     "data": {
      "text/plain": [
       "30"
      ]
     },
     "execution_count": 2,
     "metadata": {},
     "output_type": "execute_result"
    }
   ],
   "source": [
    "from notebook_helpers import add_two_ints\n",
    "add_two_ints(10, 20)"
   ]
  },
  {
   "cell_type": "markdown",
   "metadata": {},
   "source": [
    "Madison"
   ]
  },
  {
   "cell_type": "code",
   "execution_count": 11,
   "metadata": {},
   "outputs": [
    {
     "name": "stdout",
     "output_type": "stream",
     "text": [
      "{'yellow': 1}\n",
      "{'yellow': 2}\n",
      "yellow\n"
     ]
    },
    {
     "data": {
      "text/plain": [
       "'yellow'"
      ]
     },
     "execution_count": 11,
     "metadata": {},
     "output_type": "execute_result"
    }
   ],
   "source": [
    "def favorite_color(b: dict[str, str]) -> str: \n",
    "    dictionary: dict[str, int] = {}\n",
    "    color: str = \"\" \n",
    "    i: int = 0 \n",
    "    for key in b: \n",
    "        if b[key] in dictionary: \n",
    "            dictionary[b[key]] += 1 \n",
    "        else: \n",
    "            dictionary[b[key]] = 1\n",
    "        print(dictionary)\n",
    "    for key in dictionary: \n",
    "        if i < dictionary[key]: \n",
    "            i = dictionary[key]\n",
    "            color = key \n",
    "        print(color)\n",
    "        return color\n",
    "\n",
    "favorite_color({\"Marc\": \"yellow\", \"Summer\": \"yellow\", \"Dian\": \"blue\"})"
   ]
  },
  {
   "cell_type": "code",
   "execution_count": 9,
   "metadata": {},
   "outputs": [
    {
     "name": "stdout",
     "output_type": "stream",
     "text": [
      "{'yellow': 2}\n"
     ]
    },
    {
     "data": {
      "text/plain": [
       "'yellow'"
      ]
     },
     "execution_count": 9,
     "metadata": {},
     "output_type": "execute_result"
    }
   ],
   "source": [
    "def favorite_color(colors: dict[str, str]) -> str:\n",
    "    \"\"\"To Find the Favorite Color.\"\"\"\n",
    "    new_dictionary: dict[str, int] = dict()\n",
    "    for key in colors: \n",
    "        value = colors[key]\n",
    "        is_color_present: bool = value in new_dictionary\n",
    "        if is_color_present is True: \n",
    "            new_dictionary[value] += 1\n",
    "        else: \n",
    "            new_dictionary[value] = 1 \n",
    "    print(new_dictionary)\n",
    "    highest_count: int = 0 \n",
    "    highest_color: str = \"\"\n",
    "    for key in new_dictionary:\n",
    "        current_value = new_dictionary[key]\n",
    "        if current_value > highest_count:\n",
    "            highest_color = key\n",
    "            highest_count = current_value\n",
    "    return highest_color\n",
    "\n",
    "favorite_color({\"Marc\": \"yellow\", \"Summer\": \"yellow\"})"
   ]
  }
 ],
 "metadata": {
  "interpreter": {
   "hash": "949777d72b0d2535278d3dc13498b2535136f6dfe0678499012e853ee9abcab1"
  },
  "kernelspec": {
   "display_name": "Python 3.10.1 64-bit",
   "language": "python",
   "name": "python3"
  },
  "language_info": {
   "codemirror_mode": {
    "name": "ipython",
    "version": 3
   },
   "file_extension": ".py",
   "mimetype": "text/x-python",
   "name": "python",
   "nbconvert_exporter": "python",
   "pygments_lexer": "ipython3",
   "version": "3.10.1"
  },
  "orig_nbformat": 4
 },
 "nbformat": 4,
 "nbformat_minor": 2
}
