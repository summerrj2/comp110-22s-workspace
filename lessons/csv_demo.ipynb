{
 "cells": [
  {
   "cell_type": "markdown",
   "metadata": {},
   "source": [
    "# Working with CSV Data\n",
    "\n",
    "Comma-separated value files are commonly used for sharing tables of data between systems. \n",
    "\n",
    "Programs like Microsoft Excel, Google Sheets, as well as popular data base systems can produce CSV files as exports and progress, such as the one we will write today, have libraries for reading and processing data from CSV files. "
   ]
  },
  {
   "cell_type": "code",
   "execution_count": 25,
   "metadata": {},
   "outputs": [
    {
     "name": "stdout",
     "output_type": "stream",
     "text": [
      "Autoreload of imported modules enabled. Be sure to save your modules!\n"
     ]
    }
   ],
   "source": [
    "%reload_ext autoreload \n",
    "%autoreload 2 \n",
    "print(\"Autoreload of imported modules enabled. Be sure to save your modules!\")"
   ]
  },
  {
   "cell_type": "markdown",
   "metadata": {},
   "source": [
    "## Importing Utility Functions \n",
    "\n",
    "Our helper functions will be located in 'lessons/data_utility.py' and we will import the functions in cell below. "
   ]
  },
  {
   "cell_type": "code",
   "execution_count": 15,
   "metadata": {},
   "outputs": [
    {
     "name": "stdout",
     "output_type": "stream",
     "text": [
      "{'\\ufeffdate': '16-Oct', 'low': '56', 'high': '75'}\n",
      "{'\\ufeffdate': '17-Oct', 'low': '57', 'high': '76'}\n",
      "{'\\ufeffdate': '18-Oct', 'low': '62', 'high': '75'}\n"
     ]
    },
    {
     "data": {
      "text/plain": [
       "[]"
      ]
     },
     "execution_count": 15,
     "metadata": {},
     "output_type": "execute_result"
    }
   ],
   "source": [
    "from data_utils import read_csv_rows \n",
    "\n",
    "data_file: str = \"../lessons/weather.csv\"\n",
    "data_table: list[dict[str, str]] = read_csv_rows(data_file)\n",
    "data_table"
   ]
  },
  {
   "cell_type": "markdown",
   "metadata": {},
   "source": [
    "## Selecting the values of a single colomn with `coloumn_values`"
   ]
  },
  {
   "cell_type": "code",
   "execution_count": 20,
   "metadata": {},
   "outputs": [
    {
     "data": {
      "text/plain": [
       "[]"
      ]
     },
     "execution_count": 20,
     "metadata": {},
     "output_type": "execute_result"
    }
   ],
   "source": [
    "from data_utils import coloumn_values \n",
    "\n",
    "dates: list[str] = coloumn_values(data_table, \"date\")\n",
    "dates"
   ]
  },
  {
   "cell_type": "markdown",
   "metadata": {},
   "source": [
    "## Convert a row-oriented table to a column-oriented table"
   ]
  },
  {
   "cell_type": "code",
   "execution_count": 26,
   "metadata": {},
   "outputs": [
    {
     "ename": "IndexError",
     "evalue": "list index out of range",
     "output_type": "error",
     "traceback": [
      "\u001b[0;31m---------------------------------------------------------------------------\u001b[0m",
      "\u001b[0;31mIndexError\u001b[0m                                Traceback (most recent call last)",
      "\u001b[1;32m/Users/summerjones/Desktop/comp110-22s-workspace-1/lessons/csv_demo.ipynb Cell 8'\u001b[0m in \u001b[0;36m<module>\u001b[0;34m\u001b[0m\n\u001b[1;32m      <a href='vscode-notebook-cell:/Users/summerjones/Desktop/comp110-22s-workspace-1/lessons/csv_demo.ipynb#ch0000010?line=0'>1</a>\u001b[0m \u001b[39mfrom\u001b[39;00m \u001b[39mdata_utils\u001b[39;00m \u001b[39mimport\u001b[39;00m columnar \n\u001b[0;32m----> <a href='vscode-notebook-cell:/Users/summerjones/Desktop/comp110-22s-workspace-1/lessons/csv_demo.ipynb#ch0000010?line=2'>3</a>\u001b[0m column_table: \u001b[39mdict\u001b[39m[\u001b[39mstr\u001b[39m, \u001b[39mlist\u001b[39m[\u001b[39mstr\u001b[39m]] \u001b[39m=\u001b[39m columnar(data_table)\n\u001b[1;32m      <a href='vscode-notebook-cell:/Users/summerjones/Desktop/comp110-22s-workspace-1/lessons/csv_demo.ipynb#ch0000010?line=3'>4</a>\u001b[0m column_table\n",
      "File \u001b[0;32m~/Desktop/comp110-22s-workspace-1/lessons/data_utils.py:41\u001b[0m, in \u001b[0;36mcolumnar\u001b[0;34m(row_table)\u001b[0m\n\u001b[1;32m     <a href='file:///~/Desktop/comp110-22s-workspace-1/lessons/data_utils.py?line=37'>38</a>\u001b[0m \u001b[39m\"\"\"Transform a row-oriented tables to a column-oriented table.\"\"\"\u001b[39;00m\n\u001b[1;32m     <a href='file:///~/Desktop/comp110-22s-workspace-1/lessons/data_utils.py?line=38'>39</a>\u001b[0m result: \u001b[39mdict\u001b[39m[\u001b[39mstr\u001b[39m, \u001b[39mlist\u001b[39m[\u001b[39mstr\u001b[39m]] \u001b[39m=\u001b[39m {}\n\u001b[0;32m---> <a href='file:///~/Desktop/comp110-22s-workspace-1/lessons/data_utils.py?line=40'>41</a>\u001b[0m first_row: \u001b[39mdict\u001b[39m[\u001b[39mstr\u001b[39m, \u001b[39mstr\u001b[39m] \u001b[39m=\u001b[39m row_table[\u001b[39m0\u001b[39;49m]\n\u001b[1;32m     <a href='file:///~/Desktop/comp110-22s-workspace-1/lessons/data_utils.py?line=41'>42</a>\u001b[0m \u001b[39mfor\u001b[39;00m column \u001b[39min\u001b[39;00m first_row: \n\u001b[1;32m     <a href='file:///~/Desktop/comp110-22s-workspace-1/lessons/data_utils.py?line=42'>43</a>\u001b[0m     result[column] \u001b[39m=\u001b[39m column_values(row_table, column)\n",
      "\u001b[0;31mIndexError\u001b[0m: list index out of range"
     ]
    }
   ],
   "source": [
    "from data_utils import columnar \n",
    "\n",
    "column_table: dict[str, list[str]] = columnar(data_table)\n",
    "column_table"
   ]
  }
 ],
 "metadata": {
  "interpreter": {
   "hash": "949777d72b0d2535278d3dc13498b2535136f6dfe0678499012e853ee9abcab1"
  },
  "kernelspec": {
   "display_name": "Python 3.10.1 64-bit",
   "language": "python",
   "name": "python3"
  },
  "language_info": {
   "codemirror_mode": {
    "name": "ipython",
    "version": 3
   },
   "file_extension": ".py",
   "mimetype": "text/x-python",
   "name": "python",
   "nbconvert_exporter": "python",
   "pygments_lexer": "ipython3",
   "version": "3.10.1"
  },
  "orig_nbformat": 4
 },
 "nbformat": 4,
 "nbformat_minor": 2
}
